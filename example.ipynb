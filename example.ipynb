{
 "cells": [
  {
   "cell_type": "code",
   "execution_count": null,
   "metadata": {},
   "outputs": [],
   "source": [
    "import numpy as np\n",
    "import pandas as pd\n",
    "import sim_fa as sf\n",
    "import factor_analysis as fa\n",
    "import matplotlib.pyplot as plt\n",
    "from timeit import default_timer as timer\n",
    "\n",
    "early_stop = True\n",
    "n_trials = 600\n",
    "n_neurons = 150\n",
    "n_latents = 8\n",
    "rand_seed = 100\n",
    "\n",
    "# simulate from a factor analysis model\n",
    "fa_simulator = sf.sim_fa(n_neurons,n_latents,model_type='fa',rand_seed=rand_seed)\n",
    "X = fa_simulator.sim_data(n_trials,rand_seed=rand_seed)\n",
    "sim_params = fa_simulator.get_params()\n",
    "\n",
    "# # fit fa model\n",
    "# model = fa.factor_analysis(model_type='fa')\n",
    "# log_L = model.train(X,5,verbose=False,rand_seed=0)\n",
    "# fit_params = model.get_params()\n",
    "\n",
    "# cross-validation\n",
    "model = fa.factor_analysis(model_type='fa')\n",
    "LL,testLL = model.train(X,5)\n",
    "start = timer()\n",
    "cv_faMdl = model.crossvalidate(X,early_stop=early_stop,rand_seed=rand_seed)\n",
    "LLs,zDim_list,max_LL,zDim = cv_faMdl['LLs'],cv_faMdl['z_list'],cv_faMdl['final_LL'],cv_faMdl['zDim']\n",
    "end = timer()\n"
   ]
  },
  {
   "cell_type": "code",
   "execution_count": null,
   "metadata": {},
   "outputs": [],
   "source": [
    "# # plot fa fitting log-likelihood (no cross-validation)\n",
    "# plt.figure(0)\n",
    "# plt.plot(LL)\n",
    "# plt.xlabel('iteration')\n",
    "# plt.ylabel('log likelihood')\n",
    "# plt.title('factor analysis, LL curve')\n",
    "# plt.show()\n",
    "\n",
    "# # plot cross-validation curve\n",
    "# plt.figure(0)\n",
    "# plt.plot(zDim_list,LLs,'bo-')\n",
    "# plt.plot(zDim,max_LL,'r^')\n",
    "# plt.show()"
   ]
  },
  {
   "cell_type": "code",
   "execution_count": null,
   "metadata": {},
   "outputs": [],
   "source": [
    "# # get latents and compare recovered latents vs true latents\n",
    "# z_fit,LL_fit = model.estep(X)\n",
    "# z_fit,Lorth = model.orthogonalize(z_fit['z_mu'])\n",
    "\n",
    "# sim_model = fa.factor_analysis(model_type='fa')\n",
    "# sim_model.set_params(sim_params)\n",
    "# z_true,LL_true = sim_model.estep(X)\n",
    "# z_true,Lorth = sim_model.orthogonalize(z_true['z_mu'])\n",
    "\n",
    "# plt.figure(1)\n",
    "# plt.plot(z_true[:,0],z_fit[:,0],'b.')\n",
    "# plt.xlabel('True z1')\n",
    "# plt.ylabel('Recovered z1')\n",
    "# plt.show()"
   ]
  },
  {
   "cell_type": "code",
   "execution_count": null,
   "metadata": {},
   "outputs": [],
   "source": [
    "# compute fa metrics\n",
    "model.train_earlyStop(X,zDim,rand_seed=rand_seed)\n",
    "eStop_metrics = model.compute_earlyStop_metrics(cutoff_thresh=0.95)\n",
    "fitted_metrics = model.compute_metrics(cutoff_thresh=0.95)\n",
    "train_psv,test_psv = model.compute_cv_psv(X,zDim,n_boots=50,\\\n",
    "    rand_seed=rand_seed,return_each=True,test_size=0.1,early_stop=True)\n",
    "sim_model = fa.factor_analysis(model_type='fa')\n",
    "sim_model.set_params(sim_params)\n",
    "true_metrics = sim_model.compute_metrics(cutoff_thresh=0.95)\n",
    "\n",
    "fig,ax = plt.subplots(1,1)\n",
    "ax.errorbar(1,np.mean(train_psv),yerr=np.std(train_psv),fmt='ko',label='training')\n",
    "ax.errorbar(2,np.mean(test_psv),yerr=np.std(test_psv),fmt='ro',label='heldout')\n",
    "ax.set_xlim([0.5,2.5])\n",
    "ax.plot(ax.get_xlim(),np.ones(2)*true_metrics['psv'],'k--',label='true')\n",
    "ax.set_ylabel('% sv')\n",
    "ax.set_xticks([1,2])\n",
    "ax.set_xticklabels(['training','heldout'])\n",
    "\n",
    "# print('ground truth psv:',true_metrics['psv'])\n",
    "# print('training psvs:',train_psv)\n",
    "# print('test psvs:',test_psv)\n",
    "# print('fitted dshared:',fitted_metrics['dshared'])\n",
    "# print('ground truth dshared:',true_metrics['dshared'])\n",
    "# print('fitted participation ratio: {:.2f}'.format(fitted_metrics['part_ratio']))\n",
    "# print('ground truth participation ratio: {:.2f}'.format(true_metrics['part_ratio']))\n"
   ]
  },
  {
   "cell_type": "code",
   "execution_count": null,
   "metadata": {},
   "outputs": [],
   "source": []
  }
 ],
 "metadata": {
  "kernelspec": {
   "display_name": "Python 3",
   "language": "python",
   "name": "python3"
  },
  "language_info": {
   "codemirror_mode": {
    "name": "ipython",
    "version": 3
   },
   "file_extension": ".py",
   "mimetype": "text/x-python",
   "name": "python",
   "nbconvert_exporter": "python",
   "pygments_lexer": "ipython3",
   "version": "3.7.9"
  }
 },
 "nbformat": 4,
 "nbformat_minor": 2
}
