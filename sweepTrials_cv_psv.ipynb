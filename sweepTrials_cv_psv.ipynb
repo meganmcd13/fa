{
 "cells": [
  {
   "cell_type": "code",
   "execution_count": null,
   "metadata": {},
   "outputs": [],
   "source": [
    "import numpy as np\n",
    "import pandas as pd\n",
    "import sim_fa as sf\n",
    "import factor_analysis as fa\n",
    "import matplotlib.pyplot as plt\n",
    "from timeit import default_timer as timer\n",
    "\n",
    "early_stop = True\n",
    "n_trials = [200,400,800,1600,3200]\n",
    "n_neurons = 100\n",
    "n_latents = 10\n",
    "rand_seed = 99\n",
    "\n",
    "# simulate from a factor analysis model\n",
    "fa_simulator = sf.sim_fa(n_neurons,n_latents,model_type='fa',rand_seed=rand_seed)\n",
    "sim_params = fa_simulator.get_params()\n",
    "sim_model = fa.factor_analysis(model_type='fa')\n",
    "sim_model.set_params(sim_params)\n",
    "true_psv = sim_model.compute_metrics()['psv']\n",
    "\n",
    "train_psv,cv_psv = np.empty(len(n_trials)),np.empty(len(n_trials))\n",
    "for i,N in enumerate(n_trials):\n",
    "    print(f\"Evaluating FA model for {N} trials\")\n",
    "    X = fa_simulator.sim_data(N,rand_seed=rand_seed)\n",
    "    model = fa.factor_analysis()\n",
    "    model.train(X,n_latents,rand_seed=rand_seed)\n",
    "#     train_psv[i] = model.compute_metrics()['psv']\n",
    "    train_psv[i],cv_psv[i] = model.compute_cv_psv(X,n_latents,n_boots=100,\\\n",
    "        rand_seed=rand_seed,return_each=False,test_size=0.2,early_stop=True)\n",
    "\n",
    "fig,ax = plt.subplots(1,1)\n",
    "ax.plot(n_trials,train_psv,'ko-',label='training')\n",
    "ax.plot(n_trials,cv_psv,'ro-',label='crossval')\n",
    "ax.plot(ax.get_xlim(),np.ones(2)*true_psv,'k--',label='true')\n",
    "ax.set_xlabel('num trials')\n",
    "ax.set_ylabel('% sv')\n",
    "ax.legend()\n",
    "ax.set_title(f\"{n_neurons} neurons, {n_latents} latents\")"
   ]
  },
  {
   "cell_type": "code",
   "execution_count": null,
   "metadata": {},
   "outputs": [],
   "source": []
  }
 ],
 "metadata": {
  "kernelspec": {
   "display_name": "Python 3",
   "language": "python",
   "name": "python3"
  },
  "language_info": {
   "codemirror_mode": {
    "name": "ipython",
    "version": 3
   },
   "file_extension": ".py",
   "mimetype": "text/x-python",
   "name": "python",
   "nbconvert_exporter": "python",
   "pygments_lexer": "ipython3",
   "version": "3.7.9"
  }
 },
 "nbformat": 4,
 "nbformat_minor": 2
}
